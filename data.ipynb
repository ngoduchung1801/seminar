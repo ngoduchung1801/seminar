{
 "cells": [
  {
   "cell_type": "code",
   "execution_count": 5,
   "metadata": {},
   "outputs": [],
   "source": [
    "import numpy as np\n",
    "import pandas as pd\n",
    "import matplotlib.pyplot as plt\n",
    "import seaborn as sns"
   ]
  },
  {
   "cell_type": "code",
   "execution_count": 6,
   "metadata": {},
   "outputs": [],
   "source": [
    "df = pd.read_csv(\"D:\\seminar\\Customers.csv\")"
   ]
  },
  {
   "cell_type": "code",
   "execution_count": 7,
   "metadata": {},
   "outputs": [
    {
     "data": {
      "text/html": [
       "<div>\n",
       "<style scoped>\n",
       "    .dataframe tbody tr th:only-of-type {\n",
       "        vertical-align: middle;\n",
       "    }\n",
       "\n",
       "    .dataframe tbody tr th {\n",
       "        vertical-align: top;\n",
       "    }\n",
       "\n",
       "    .dataframe thead th {\n",
       "        text-align: right;\n",
       "    }\n",
       "</style>\n",
       "<table border=\"1\" class=\"dataframe\">\n",
       "  <thead>\n",
       "    <tr style=\"text-align: right;\">\n",
       "      <th></th>\n",
       "      <th>CustomerID</th>\n",
       "      <th>Gender</th>\n",
       "      <th>Age</th>\n",
       "      <th>Annual Income ($)</th>\n",
       "      <th>Spending Score (1-100)</th>\n",
       "      <th>Profession</th>\n",
       "      <th>Work Experience</th>\n",
       "      <th>Family Size</th>\n",
       "    </tr>\n",
       "  </thead>\n",
       "  <tbody>\n",
       "    <tr>\n",
       "      <th>0</th>\n",
       "      <td>1</td>\n",
       "      <td>Male</td>\n",
       "      <td>19</td>\n",
       "      <td>15000</td>\n",
       "      <td>39</td>\n",
       "      <td>Healthcare</td>\n",
       "      <td>1</td>\n",
       "      <td>4</td>\n",
       "    </tr>\n",
       "    <tr>\n",
       "      <th>1</th>\n",
       "      <td>2</td>\n",
       "      <td>Male</td>\n",
       "      <td>21</td>\n",
       "      <td>35000</td>\n",
       "      <td>81</td>\n",
       "      <td>Engineer</td>\n",
       "      <td>3</td>\n",
       "      <td>3</td>\n",
       "    </tr>\n",
       "    <tr>\n",
       "      <th>2</th>\n",
       "      <td>3</td>\n",
       "      <td>Female</td>\n",
       "      <td>20</td>\n",
       "      <td>86000</td>\n",
       "      <td>6</td>\n",
       "      <td>Engineer</td>\n",
       "      <td>1</td>\n",
       "      <td>1</td>\n",
       "    </tr>\n",
       "    <tr>\n",
       "      <th>3</th>\n",
       "      <td>4</td>\n",
       "      <td>Female</td>\n",
       "      <td>23</td>\n",
       "      <td>59000</td>\n",
       "      <td>77</td>\n",
       "      <td>Lawyer</td>\n",
       "      <td>0</td>\n",
       "      <td>2</td>\n",
       "    </tr>\n",
       "    <tr>\n",
       "      <th>4</th>\n",
       "      <td>5</td>\n",
       "      <td>Female</td>\n",
       "      <td>31</td>\n",
       "      <td>38000</td>\n",
       "      <td>40</td>\n",
       "      <td>Entertainment</td>\n",
       "      <td>2</td>\n",
       "      <td>6</td>\n",
       "    </tr>\n",
       "    <tr>\n",
       "      <th>...</th>\n",
       "      <td>...</td>\n",
       "      <td>...</td>\n",
       "      <td>...</td>\n",
       "      <td>...</td>\n",
       "      <td>...</td>\n",
       "      <td>...</td>\n",
       "      <td>...</td>\n",
       "      <td>...</td>\n",
       "    </tr>\n",
       "    <tr>\n",
       "      <th>1995</th>\n",
       "      <td>1996</td>\n",
       "      <td>Female</td>\n",
       "      <td>71</td>\n",
       "      <td>184387</td>\n",
       "      <td>40</td>\n",
       "      <td>Artist</td>\n",
       "      <td>8</td>\n",
       "      <td>7</td>\n",
       "    </tr>\n",
       "    <tr>\n",
       "      <th>1996</th>\n",
       "      <td>1997</td>\n",
       "      <td>Female</td>\n",
       "      <td>91</td>\n",
       "      <td>73158</td>\n",
       "      <td>32</td>\n",
       "      <td>Doctor</td>\n",
       "      <td>7</td>\n",
       "      <td>7</td>\n",
       "    </tr>\n",
       "    <tr>\n",
       "      <th>1997</th>\n",
       "      <td>1998</td>\n",
       "      <td>Male</td>\n",
       "      <td>87</td>\n",
       "      <td>90961</td>\n",
       "      <td>14</td>\n",
       "      <td>Healthcare</td>\n",
       "      <td>9</td>\n",
       "      <td>2</td>\n",
       "    </tr>\n",
       "    <tr>\n",
       "      <th>1998</th>\n",
       "      <td>1999</td>\n",
       "      <td>Male</td>\n",
       "      <td>77</td>\n",
       "      <td>182109</td>\n",
       "      <td>4</td>\n",
       "      <td>Executive</td>\n",
       "      <td>7</td>\n",
       "      <td>2</td>\n",
       "    </tr>\n",
       "    <tr>\n",
       "      <th>1999</th>\n",
       "      <td>2000</td>\n",
       "      <td>Male</td>\n",
       "      <td>90</td>\n",
       "      <td>110610</td>\n",
       "      <td>52</td>\n",
       "      <td>Entertainment</td>\n",
       "      <td>5</td>\n",
       "      <td>2</td>\n",
       "    </tr>\n",
       "  </tbody>\n",
       "</table>\n",
       "<p>2000 rows × 8 columns</p>\n",
       "</div>"
      ],
      "text/plain": [
       "      CustomerID  Gender  Age  Annual Income ($)  Spending Score (1-100)  \\\n",
       "0              1    Male   19              15000                      39   \n",
       "1              2    Male   21              35000                      81   \n",
       "2              3  Female   20              86000                       6   \n",
       "3              4  Female   23              59000                      77   \n",
       "4              5  Female   31              38000                      40   \n",
       "...          ...     ...  ...                ...                     ...   \n",
       "1995        1996  Female   71             184387                      40   \n",
       "1996        1997  Female   91              73158                      32   \n",
       "1997        1998    Male   87              90961                      14   \n",
       "1998        1999    Male   77             182109                       4   \n",
       "1999        2000    Male   90             110610                      52   \n",
       "\n",
       "         Profession  Work Experience  Family Size  \n",
       "0        Healthcare                1            4  \n",
       "1          Engineer                3            3  \n",
       "2          Engineer                1            1  \n",
       "3            Lawyer                0            2  \n",
       "4     Entertainment                2            6  \n",
       "...             ...              ...          ...  \n",
       "1995         Artist                8            7  \n",
       "1996         Doctor                7            7  \n",
       "1997     Healthcare                9            2  \n",
       "1998      Executive                7            2  \n",
       "1999  Entertainment                5            2  \n",
       "\n",
       "[2000 rows x 8 columns]"
      ]
     },
     "execution_count": 7,
     "metadata": {},
     "output_type": "execute_result"
    }
   ],
   "source": [
    "df"
   ]
  },
  {
   "cell_type": "code",
   "execution_count": 8,
   "metadata": {},
   "outputs": [
    {
     "name": "stdout",
     "output_type": "stream",
     "text": [
      "<class 'pandas.core.frame.DataFrame'>\n",
      "RangeIndex: 2000 entries, 0 to 1999\n",
      "Data columns (total 8 columns):\n",
      " #   Column                  Non-Null Count  Dtype \n",
      "---  ------                  --------------  ----- \n",
      " 0   CustomerID              2000 non-null   int64 \n",
      " 1   Gender                  2000 non-null   object\n",
      " 2   Age                     2000 non-null   int64 \n",
      " 3   Annual Income ($)       2000 non-null   int64 \n",
      " 4   Spending Score (1-100)  2000 non-null   int64 \n",
      " 5   Profession              1965 non-null   object\n",
      " 6   Work Experience         2000 non-null   int64 \n",
      " 7   Family Size             2000 non-null   int64 \n",
      "dtypes: int64(6), object(2)\n",
      "memory usage: 125.1+ KB\n"
     ]
    }
   ],
   "source": [
    "df.info()"
   ]
  },
  {
   "cell_type": "code",
   "execution_count": 9,
   "metadata": {},
   "outputs": [
    {
     "data": {
      "text/plain": [
       "CustomerID                   348\n",
       "Gender                    Female\n",
       "Age                           99\n",
       "Annual Income ($)         184426\n",
       "Spending Score (1-100)        41\n",
       "Profession                Artist\n",
       "Work Experience                9\n",
       "Family Size                    1\n",
       "Name: 347, dtype: object"
      ]
     },
     "execution_count": 9,
     "metadata": {},
     "output_type": "execute_result"
    }
   ],
   "source": [
    "df.loc[df[\"Age\"].idxmax()]"
   ]
  },
  {
   "cell_type": "code",
   "execution_count": 10,
   "metadata": {},
   "outputs": [
    {
     "data": {
      "text/plain": [
       "CustomerID                   212\n",
       "Gender                    Female\n",
       "Age                            0\n",
       "Annual Income ($)          22000\n",
       "Spending Score (1-100)        92\n",
       "Profession                Artist\n",
       "Work Experience                2\n",
       "Family Size                    1\n",
       "Name: 211, dtype: object"
      ]
     },
     "execution_count": 10,
     "metadata": {},
     "output_type": "execute_result"
    }
   ],
   "source": [
    "df.loc[df[\"Age\"].idxmin()]"
   ]
  },
  {
   "cell_type": "code",
   "execution_count": 11,
   "metadata": {},
   "outputs": [
    {
     "data": {
      "image/png": "[encoded data removed]",
      "text/plain": [
       "<Figure size 1000x600 with 1 Axes>"
      ]
     },
     "metadata": {},
     "output_type": "display_data"
    }
   ],
   "source": [
    "df_clean = df[df['Age'] >= 16]\n",
    "age_counts = pd.Series(df_clean['Age']).value_counts().sort_index()\n",
    "\n",
    "ages = age_counts.index\n",
    "occurrences = age_counts.values\n",
    "\n",
    "plt.figure(figsize=(10, 6))\n",
    "plt.bar(ages, occurrences)\n",
    "plt.xlabel('Age')\n",
    "plt.ylabel('Number of Occurrences')\n",
    "plt.show()"
   ]
  },
  {
   "cell_type": "code",
   "execution_count": 18,
   "metadata": {},
   "outputs": [],
   "source": [
    "def laplace_mech(value, sensitivity, epsilon):\n",
    "    noise = np.random.laplace(0, sensitivity / epsilon)\n",
    "    return value + noise\n",
    "\n",
    "epsilon = 1\n",
    "occurrences_noisy = [laplace_mech(c, 1, epsilon) for c in occurrences]"
   ]
  },
  {
   "cell_type": "code",
   "execution_count": 19,
   "metadata": {},
   "outputs": [
    {
     "data": {
      "image/png": "[encoded data removed]",
      "text/plain": [
       "<Figure size 1000x600 with 1 Axes>"
      ]
     },
     "metadata": {},
     "output_type": "display_data"
    }
   ],
   "source": [
    "# Xử lý dữ liệu\n",
    "dp_syn_rep_nn = np.clip(occurrences_noisy, 0, None)\n",
    "syn_normalized = dp_syn_rep_nn / np.sum(dp_syn_rep_nn)\n",
    "\n",
    "# Tạo biểu đồ chuẩn hóa\n",
    "plt.figure(figsize=(10, 6))\n",
    "plt.bar(ages, syn_normalized)\n",
    "plt.xlabel('Age')\n",
    "plt.ylabel('Probability')\n",
    "plt.show()"
   ]
  },
  {
   "cell_type": "code",
   "execution_count": null,
   "metadata": {},
   "outputs": [],
   "source": []
  }
 ],
 "metadata": {
  "kernelspec": {
   "display_name": "Python 3",
   "language": "python",
   "name": "python3"
  },
  "language_info": {
   "codemirror_mode": {
    "name": "ipython",
    "version": 3
   },
   "file_extension": ".py",
   "mimetype": "text/x-python",
   "name": "python",
   "nbconvert_exporter": "python",
   "pygments_lexer": "ipython3",
   "version": "3.11.5"
  }
 },
 "nbformat": 4,
 "nbformat_minor": 2
}
